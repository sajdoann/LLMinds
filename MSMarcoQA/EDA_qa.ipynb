{
 "cells": [
  {
   "metadata": {},
   "cell_type": "markdown",
   "source": "# EDA",
   "id": "57454edb0b81daf3"
  },
  {
   "metadata": {},
   "cell_type": "markdown",
   "source": [
    "This notebook explores `qa_train_data.csv`\n",
    "\n",
    "## 1. Data origin\n",
    "The data was taken from the **MSMarco QA dataset** (`dev_v2.1.json`).\n",
    "#### Related Links:\n",
    "- **Official Webpage**: [MSMarco QA Overview](https://microsoft.github.io/MSMARCO-Question-Answering/)\n",
    "- **Dataset Page** (Agree to terms of usage to access datasets): [MSMarco Datasets](https://microsoft.github.io/msmarco/#qna)\n",
    "\n",
    "#### Dataset Files:\n",
    "- **Training Data**: [train_v2.1.json.gz](https://msmarco.z22.web.core.windows.net/msmarco/train_v2.1.json.gz)\n",
    "- **Development Data**: [dev_v2.1.json.gz](https://msmarco.z22.web.core.windows.net/msmarco/dev_v2.1.json.gz)\n",
    "- **Evaluation Data**: [eval_v2.1_public.json.gz](https://msmarco.z22.web.core.windows.net/msmarco/eval_v2.1_public.json.gz)\n",
    "\n",
    "## 2. Data preparation\n",
    "We extracted the following fields using `make_data.py`:\n",
    "\n",
    "## Extracted Fields:\n",
    "- **`query_id`**: A unique identifier for each question.\n",
    "- **`question`**: The actual question being asked.\n",
    "- **`answer`**: The correct answer(s) provided by human annotators.\n",
    "- **`passages`**: Text passages that contain relevant information to answer the question.\n",
    "\n",
    "## Data Extraction Process:\n",
    "- The script `make_data.py` processes the dataset by:\n",
    "  - Filtering out questions without a valid answer (i.e., `\"No Answer Present.\"`).\n",
    "  - Matching questions with relevant passages that contain supporting information.\n",
    "  - Formatting the output as a structured dataset for training.\n",
    "\n",
    "## Example Entry:\n",
    "```json\n",
    "{\n",
    "    \"query_id\": \"0\",\n",
    "    \"question\": \"What is a corporation?\",\n",
    "    \"answer\": [\"A corporation is a company or group of people authorized to act as a single entity and recognized as such in law.\"],\n",
    "    \"passages\": \"McDonald's Corporation is one of the most recognizable corporations in the world. A corporation is a company or group of people authorized to act as a single entity (legally a person) and recognized as such in law. Early incorporated entities were established by charter...\"\n",
    "}"
   ],
   "id": "968d0c6f1eb890a5"
  },
  {
   "cell_type": "code",
   "id": "initial_id",
   "metadata": {
    "collapsed": true,
    "ExecuteTime": {
     "end_time": "2025-03-28T08:37:12.736738Z",
     "start_time": "2025-03-28T08:37:12.204129Z"
    }
   },
   "source": "import pandas as pd",
   "outputs": [],
   "execution_count": 1
  },
  {
   "metadata": {
    "ExecuteTime": {
     "end_time": "2025-03-28T08:37:46.350301Z",
     "start_time": "2025-03-28T08:37:46.342061Z"
    }
   },
   "cell_type": "code",
   "source": "data_split = 'eval'",
   "id": "ea336dd398be049f",
   "outputs": [],
   "execution_count": 9
  },
  {
   "metadata": {
    "ExecuteTime": {
     "end_time": "2025-03-28T08:37:46.693116Z",
     "start_time": "2025-03-28T08:37:46.530538Z"
    }
   },
   "cell_type": "code",
   "source": [
    "\n",
    "# Load your dataset\n",
    "df = pd.read_csv(f\"qa_{data_split}_data.csv\")\n",
    "\n",
    "# Basic Overview\n",
    "print(\"Dataset Info:\")\n",
    "print(df.info())  # Column types, missing values"
   ],
   "id": "8dcf3231f282eff8",
   "outputs": [
    {
     "name": "stdout",
     "output_type": "stream",
     "text": [
      "Dataset Info:\n",
      "<class 'pandas.core.frame.DataFrame'>\n",
      "RangeIndex: 101092 entries, 0 to 101091\n",
      "Data columns (total 2 columns):\n",
      " #   Column    Non-Null Count   Dtype \n",
      "---  ------    --------------   ----- \n",
      " 0   query_id  101092 non-null  int64 \n",
      " 1   question  101092 non-null  object\n",
      "dtypes: int64(1), object(1)\n",
      "memory usage: 1.5+ MB\n",
      "None\n"
     ]
    }
   ],
   "execution_count": 10
  },
  {
   "metadata": {
    "ExecuteTime": {
     "end_time": "2025-03-28T08:37:46.797057Z",
     "start_time": "2025-03-28T08:37:46.781928Z"
    }
   },
   "cell_type": "code",
   "source": "df.head()",
   "id": "6ca243c98c379459",
   "outputs": [
    {
     "data": {
      "text/plain": [
       "   query_id                                   question\n",
       "0         0                         #ffffff color code\n",
       "1         1                    why did qbe stock drop?\n",
       "2        10     why did the monroe doctrine originate?\n",
       "3       100    why do trade winds move in this pattern\n",
       "4      1000  distance between erie in buffalo new york"
      ],
      "text/html": [
       "<div>\n",
       "<style scoped>\n",
       "    .dataframe tbody tr th:only-of-type {\n",
       "        vertical-align: middle;\n",
       "    }\n",
       "\n",
       "    .dataframe tbody tr th {\n",
       "        vertical-align: top;\n",
       "    }\n",
       "\n",
       "    .dataframe thead th {\n",
       "        text-align: right;\n",
       "    }\n",
       "</style>\n",
       "<table border=\"1\" class=\"dataframe\">\n",
       "  <thead>\n",
       "    <tr style=\"text-align: right;\">\n",
       "      <th></th>\n",
       "      <th>query_id</th>\n",
       "      <th>question</th>\n",
       "    </tr>\n",
       "  </thead>\n",
       "  <tbody>\n",
       "    <tr>\n",
       "      <th>0</th>\n",
       "      <td>0</td>\n",
       "      <td>#ffffff color code</td>\n",
       "    </tr>\n",
       "    <tr>\n",
       "      <th>1</th>\n",
       "      <td>1</td>\n",
       "      <td>why did qbe stock drop?</td>\n",
       "    </tr>\n",
       "    <tr>\n",
       "      <th>2</th>\n",
       "      <td>10</td>\n",
       "      <td>why did the monroe doctrine originate?</td>\n",
       "    </tr>\n",
       "    <tr>\n",
       "      <th>3</th>\n",
       "      <td>100</td>\n",
       "      <td>why do trade winds move in this pattern</td>\n",
       "    </tr>\n",
       "    <tr>\n",
       "      <th>4</th>\n",
       "      <td>1000</td>\n",
       "      <td>distance between erie in buffalo new york</td>\n",
       "    </tr>\n",
       "  </tbody>\n",
       "</table>\n",
       "</div>"
      ]
     },
     "execution_count": 11,
     "metadata": {},
     "output_type": "execute_result"
    }
   ],
   "execution_count": 11
  },
  {
   "metadata": {
    "ExecuteTime": {
     "end_time": "2025-03-28T08:37:47.086512Z",
     "start_time": "2025-03-28T08:37:47.073879Z"
    }
   },
   "cell_type": "code",
   "source": "print(df.isnull().sum())",
   "id": "aaa314d3aaeeb442",
   "outputs": [
    {
     "name": "stdout",
     "output_type": "stream",
     "text": [
      "query_id    0\n",
      "question    0\n",
      "dtype: int64\n"
     ]
    }
   ],
   "execution_count": 12
  },
  {
   "metadata": {
    "ExecuteTime": {
     "end_time": "2025-03-28T08:37:47.315325Z",
     "start_time": "2025-03-28T08:37:47.270895Z"
    }
   },
   "cell_type": "code",
   "source": [
    "for col in df.columns:\n",
    "    print(f\"{col}: {df[col].nunique()} unique values\")"
   ],
   "id": "5d1bf2b90e2029b",
   "outputs": [
    {
     "name": "stdout",
     "output_type": "stream",
     "text": [
      "query_id: 101092 unique values\n",
      "question: 101092 unique values\n"
     ]
    }
   ],
   "execution_count": 13
  },
  {
   "metadata": {
    "ExecuteTime": {
     "end_time": "2025-03-28T08:37:47.551927Z",
     "start_time": "2025-03-28T08:37:47.545482Z"
    }
   },
   "cell_type": "code",
   "source": [
    "#Length of Passages\n",
    "if 'passages' in df.columns:\n",
    "    df[\"passage_length\"] = df[\"passages\"].apply(lambda x: len(str(x).split()))\n",
    "    print(\"\\nPassage Length Stats:\")\n",
    "    print(df[\"passage_length\"].describe())\n"
   ],
   "id": "5e89ebf13d44cba3",
   "outputs": [],
   "execution_count": 14
  },
  {
   "metadata": {
    "ExecuteTime": {
     "end_time": "2025-03-28T08:37:47.733715Z",
     "start_time": "2025-03-28T08:37:47.685654Z"
    }
   },
   "cell_type": "code",
   "source": [
    "# Filter questions that start with \"Wh\" and end with \"?\"\n",
    "wh_questions = df[df[\"question\"].str.match(r\"^Wh.*\\?$\", na=False)]\n",
    "\n",
    "# Count the number of such questions\n",
    "num_wh_questions = len(wh_questions)\n",
    "\n",
    "print(f\"Number of 'Wh' ? questions: {num_wh_questions}\")"
   ],
   "id": "ec5fc26cc27b4887",
   "outputs": [
    {
     "name": "stdout",
     "output_type": "stream",
     "text": [
      "Number of 'Wh' ? questions: 30\n"
     ]
    }
   ],
   "execution_count": 15
  },
  {
   "metadata": {
    "ExecuteTime": {
     "end_time": "2025-03-28T08:37:47.880721Z",
     "start_time": "2025-03-28T08:37:47.822121Z"
    }
   },
   "cell_type": "code",
   "source": [
    "# Filter questions that start with \"Wh\" and end with \"?\"\n",
    "wh_questions = df[df[\"question\"].str.match(r\"^Wh.*\", na=False)]\n",
    "\n",
    "# Count the number of such questions\n",
    "num_wh_questions = len(wh_questions)\n",
    "\n",
    "print(f\"Number of 'Wh' questions: {num_wh_questions}\")"
   ],
   "id": "f86cdbaa695ead23",
   "outputs": [
    {
     "name": "stdout",
     "output_type": "stream",
     "text": [
      "Number of 'Wh' questions: 110\n"
     ]
    }
   ],
   "execution_count": 16
  },
  {
   "metadata": {
    "ExecuteTime": {
     "end_time": "2025-03-28T08:37:48.072008Z",
     "start_time": "2025-03-28T08:37:48.066778Z"
    }
   },
   "cell_type": "code",
   "source": "",
   "id": "5ce79bdc30f6bff4",
   "outputs": [],
   "execution_count": null
  }
 ],
 "metadata": {
  "kernelspec": {
   "display_name": "Python 3",
   "language": "python",
   "name": "python3"
  },
  "language_info": {
   "codemirror_mode": {
    "name": "ipython",
    "version": 2
   },
   "file_extension": ".py",
   "mimetype": "text/x-python",
   "name": "python",
   "nbconvert_exporter": "python",
   "pygments_lexer": "ipython2",
   "version": "2.7.6"
  }
 },
 "nbformat": 4,
 "nbformat_minor": 5
}
