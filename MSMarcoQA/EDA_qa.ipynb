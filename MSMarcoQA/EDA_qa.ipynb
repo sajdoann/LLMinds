{
 "cells": [
  {
   "metadata": {},
   "cell_type": "markdown",
   "source": "# EDA",
   "id": "57454edb0b81daf3"
  },
  {
   "metadata": {},
   "cell_type": "markdown",
   "source": [
    "This notebook explores `qa_train_data.csv`\n",
    "\n",
    "## 1. Data origin\n",
    "The data was taken from the **MSMarco QA dataset** (only from `dev_v2.1.json`).\n",
    "#### Related Links:\n",
    "- **Official Webpage**: [MSMarco QA Overview](https://microsoft.github.io/MSMARCO-Question-Answering/)\n",
    "- **Dataset Page** (Agree to terms of usage to access datasets): [MSMarco Datasets](https://microsoft.github.io/msmarco/#qna)\n",
    "\n",
    "#### Dataset Files:\n",
    "- **Training Data**: [train_v2.1.json.gz](https://msmarco.z22.web.core.windows.net/msmarco/train_v2.1.json.gz)\n",
    "- **Development Data**: [dev_v2.1.json.gz](https://msmarco.z22.web.core.windows.net/msmarco/dev_v2.1.json.gz)\n",
    "- **Evaluation Data**: [eval_v2.1_public.json.gz](https://msmarco.z22.web.core.windows.net/msmarco/eval_v2.1_public.json.gz)\n",
    "\n",
    "## 2. Data preparation\n",
    "We extracted the following fields using `make_data.py`:\n",
    "\n",
    "## Extracted Fields:\n",
    "- **`query_id`**: A unique identifier for each question.\n",
    "- **`question`**: The actual question being asked.\n",
    "- **`answer`**: The correct answer(s) provided by human annotators. Is a list:)\n",
    "- **`passages`**: Text passages that contain relevant information to answer the question.\n",
    "\n",
    "## Data Extraction Process:\n",
    "- The script `make_data.py` processes the dataset by:\n",
    "  - Filtering out questions without a valid answer (i.e., `\"No Answer Present.\"`).\n",
    "  - Matching questions with relevant passages that contain supporting information.\n",
    "  - Formatting the output as a structured dataset for training.\n",
    "\n",
    "## Example Entry:\n",
    "```json\n",
    "{\n",
    "    \"query_id\": \"0\",\n",
    "    \"question\": \"What is a corporation?\",\n",
    "    \"answer\": [\"A corporation is a company or group of people authorized to act as a single entity and recognized as such in law.\"],\n",
    "    \"passages\": \"McDonald's Corporation is one of the most recognizable corporations in the world. A corporation is a company or group of people authorized to act as a single entity (legally a person) and recognized as such in law. Early incorporated entities were established by charter...\"\n",
    "}"
   ],
   "id": "968d0c6f1eb890a5"
  },
  {
   "cell_type": "code",
   "id": "initial_id",
   "metadata": {
    "collapsed": true,
    "ExecuteTime": {
     "end_time": "2025-04-05T09:10:50.987685Z",
     "start_time": "2025-04-05T09:10:50.385207Z"
    }
   },
   "source": "import pandas as pd",
   "outputs": [],
   "execution_count": 1
  },
  {
   "metadata": {
    "ExecuteTime": {
     "end_time": "2025-04-05T09:11:00.462362Z",
     "start_time": "2025-04-05T09:11:00.203686Z"
    }
   },
   "cell_type": "code",
   "source": [
    "\n",
    "# Load your dataset\n",
    "df = pd.read_csv(f\"qa_data_55578.csv\")\n",
    "\n",
    "# Basic Overview\n",
    "print(\"Dataset Info:\")\n",
    "print(df.info())  # Column types, missing values"
   ],
   "id": "8dcf3231f282eff8",
   "outputs": [
    {
     "name": "stdout",
     "output_type": "stream",
     "text": [
      "Dataset Info:\n",
      "<class 'pandas.core.frame.DataFrame'>\n",
      "RangeIndex: 55578 entries, 0 to 55577\n",
      "Data columns (total 5 columns):\n",
      " #   Column      Non-Null Count  Dtype \n",
      "---  ------      --------------  ----- \n",
      " 0   query_id    55578 non-null  int64 \n",
      " 1   question    55578 non-null  object\n",
      " 2   answer      55578 non-null  object\n",
      " 3   query_type  55578 non-null  object\n",
      " 4   passages    55578 non-null  object\n",
      "dtypes: int64(1), object(4)\n",
      "memory usage: 2.1+ MB\n",
      "None\n"
     ]
    }
   ],
   "execution_count": 2
  },
  {
   "metadata": {
    "ExecuteTime": {
     "end_time": "2025-04-05T09:11:02.005736Z",
     "start_time": "2025-04-05T09:11:01.928218Z"
    }
   },
   "cell_type": "code",
   "source": "df.head()",
   "id": "6ca243c98c379459",
   "outputs": [
    {
     "data": {
      "text/plain": [
       "   query_id                                           question  \\\n",
       "0         0                           . what is a corporation?   \n",
       "1         1  why did rachel carson write an obligation to e...   \n",
       "2     10000                          symptoms of a dying mouse   \n",
       "3    100000        average number of lightning strikes per day   \n",
       "4    100001             can you burn your lawn with fertilizer   \n",
       "\n",
       "                                              answer   query_type  \\\n",
       "0  ['A corporation is a company or group of peopl...  DESCRIPTION   \n",
       "1  ['Rachel Carson writes The Obligation to Endur...  DESCRIPTION   \n",
       "2  ['The symptoms of a dying mouse are runny eyes...       ENTITY   \n",
       "3  ['Globally 8,640,000 lightning strikes per day.']      NUMERIC   \n",
       "4           ['Yes, over fertilizing can burn lawn.']  DESCRIPTION   \n",
       "\n",
       "                                            passages  \n",
       "0  McDonald's Corporation is one of the most reco...  \n",
       "1  The Obligation to Endure by Rachel Carson Rach...  \n",
       "2  The symptoms are similar but the mouse will be...  \n",
       "3  Although many lightning flashes are simply clo...  \n",
       "4  Fertilizer burn is the result of over fertiliz...  "
      ],
      "text/html": [
       "<div>\n",
       "<style scoped>\n",
       "    .dataframe tbody tr th:only-of-type {\n",
       "        vertical-align: middle;\n",
       "    }\n",
       "\n",
       "    .dataframe tbody tr th {\n",
       "        vertical-align: top;\n",
       "    }\n",
       "\n",
       "    .dataframe thead th {\n",
       "        text-align: right;\n",
       "    }\n",
       "</style>\n",
       "<table border=\"1\" class=\"dataframe\">\n",
       "  <thead>\n",
       "    <tr style=\"text-align: right;\">\n",
       "      <th></th>\n",
       "      <th>query_id</th>\n",
       "      <th>question</th>\n",
       "      <th>answer</th>\n",
       "      <th>query_type</th>\n",
       "      <th>passages</th>\n",
       "    </tr>\n",
       "  </thead>\n",
       "  <tbody>\n",
       "    <tr>\n",
       "      <th>0</th>\n",
       "      <td>0</td>\n",
       "      <td>. what is a corporation?</td>\n",
       "      <td>['A corporation is a company or group of peopl...</td>\n",
       "      <td>DESCRIPTION</td>\n",
       "      <td>McDonald's Corporation is one of the most reco...</td>\n",
       "    </tr>\n",
       "    <tr>\n",
       "      <th>1</th>\n",
       "      <td>1</td>\n",
       "      <td>why did rachel carson write an obligation to e...</td>\n",
       "      <td>['Rachel Carson writes The Obligation to Endur...</td>\n",
       "      <td>DESCRIPTION</td>\n",
       "      <td>The Obligation to Endure by Rachel Carson Rach...</td>\n",
       "    </tr>\n",
       "    <tr>\n",
       "      <th>2</th>\n",
       "      <td>10000</td>\n",
       "      <td>symptoms of a dying mouse</td>\n",
       "      <td>['The symptoms of a dying mouse are runny eyes...</td>\n",
       "      <td>ENTITY</td>\n",
       "      <td>The symptoms are similar but the mouse will be...</td>\n",
       "    </tr>\n",
       "    <tr>\n",
       "      <th>3</th>\n",
       "      <td>100000</td>\n",
       "      <td>average number of lightning strikes per day</td>\n",
       "      <td>['Globally 8,640,000 lightning strikes per day.']</td>\n",
       "      <td>NUMERIC</td>\n",
       "      <td>Although many lightning flashes are simply clo...</td>\n",
       "    </tr>\n",
       "    <tr>\n",
       "      <th>4</th>\n",
       "      <td>100001</td>\n",
       "      <td>can you burn your lawn with fertilizer</td>\n",
       "      <td>['Yes, over fertilizing can burn lawn.']</td>\n",
       "      <td>DESCRIPTION</td>\n",
       "      <td>Fertilizer burn is the result of over fertiliz...</td>\n",
       "    </tr>\n",
       "  </tbody>\n",
       "</table>\n",
       "</div>"
      ]
     },
     "execution_count": 3,
     "metadata": {},
     "output_type": "execute_result"
    }
   ],
   "execution_count": 3
  },
  {
   "metadata": {
    "ExecuteTime": {
     "end_time": "2025-04-05T09:11:02.856147Z",
     "start_time": "2025-04-05T09:11:02.821822Z"
    }
   },
   "cell_type": "code",
   "source": [
    "for row in df.sample(10).itertuples():\n",
    "    print(row)"
   ],
   "id": "60037a98b688aa5e",
   "outputs": [
    {
     "name": "stdout",
     "output_type": "stream",
     "text": [
      "Pandas(Index=49989, query_id=90078, question='what tool to use to take off lambs tails', answer=\"['Elastrator tool is used to take off lambs tails.']\", query_type='ENTITY', passages='The easiest and most common method of tail docking is to apply a rubber ring (or band) to the tail using an elastrator tool. Banding is a bloodless method of tail docking. The band cuts off the blood supply to the tail, causing the tail to fall off in 7 to 10 days.')\n",
      "Pandas(Index=48658, query_id=87881, question='who is michael bisping', answer=\"['He is an english mixed martial artist.']\", query_type='PERSON', passages='Michael Bisping. Michael Bisping (/ˈbɪspɪŋ/, BIS-ping; born 28 February 1979) is an English mixed martial artist. He fights in the Ultimate Fighting Championship (UFC), and is the current UFC Middleweight Champion. He is a former Cage Rage Light Heavyweight Champion, and The Ultimate Fighter 3 Light Heavyweight Tournament winner.')\n",
      "Pandas(Index=33357, query_id=61880, question='what could cause lung pain', answer=\"['Pleurisy, infections, smoking.']\", query_type='DESCRIPTION', passages='There are many possible conditions that may cause pain in your lungs, but some of the more common ones include: 1  Pleurisy: Pleurisy refers to an inflammation of the tissues lining the lungs (the pleura). 2  Infections: Infections ranging from pneumonia to bronchitis to a lung abscess can cause this type of pain. Pain caused by COPD. Chronic obstructive pulmonary disease, or COPD, is a disease of the lung in which breathing is made extremely difficult. Smoking is the major cause of this disease; causing inflammation of the lung as well as the destruction of air sacs within the lung. Secondhand smoke when severe and exposure to certain fumes or gases are also attributable. Symptoms include coughing and lung pain as the individual attempts to breathe or cough.')\n",
      "Pandas(Index=2658, query_id=12946, question='what are two rivers in ancient rome', answer=\"['Two major European rivers the Rhine and the Danube are in Ancient Rome.']\", query_type='ENTITY', passages='What are the major rivers in ancient rome? The river in the city of Rome is the Tiber. Regarding the Roman Empire, two major European rivers the Rhine and the Danube formed much of its frontiers in Europe.')\n",
      "Pandas(Index=10146, query_id=22928, question='what is tyvek, building', answer=\"['Tyvek is a brand of flashspun high-density polyethylene fibers, a synthetic material.']\", query_type='DESCRIPTION', passages='Tyvek house wrap. Tyvek /taɪˈvɛk/ is a brand of flashspun high-density polyethylene fibers, a synthetic material; the name is a registered trademark of DuPont. It is often seen used as housewrap, a synthetic material used to protect buildings during construction. The material is very strong; it is difficult to tear but can easily be cut with scissors or a knife. Water vapor can pass through Tyvek, but liquid water cannot. All of these properties make Tyvek useful in a variety of applications.')\n",
      "Pandas(Index=44316, query_id=80562, question='what is the record for sneezing in a row', answer=\"['978th day in a row.']\", query_type='NUMERIC', passages=\"The world record for sneezing is held by Donna Griffiths from Worstershire, UK, who sneezed for 978 days in a row. Thank you. The world record for sneezing is held by Donna Griffiths from the UK, who sneezed for 978 days in a row, stopping on 9/16/83. CHA! I'm unable to find any records, but there were a couple videos of cows sneezing & a children's book,The Day the Cow Sneezed..\")\n",
      "Pandas(Index=51996, query_id=93455, question='what is the bacterium called that causes cholera', answer=\"['Vibrio cholerae.']\", query_type='ENTITY', passages='Causes. A bacterium called Vibrio cholerae causes cholera infection. However, the deadly effects of the disease are the result of a potent toxin called CTX that the bacteria produce in the small intestine.CTX binds to the intestinal walls, where it interferes with the normal flow of sodium and chloride.holera bacteria occur naturally in coastal waters, where they attach to tiny crustaceans called copepods. The cholera bacteria travel with their hosts, spreading worldwide as the crustaceans follow their food source — certain types of algae and plankton that grow explosively when water temperatures rise.')\n",
      "Pandas(Index=14018, query_id=28035, question='definition of chakra', answer=\"['Chakras are defined as any of several points of physical or spiritual energy in the human body according to yoga philosophy.']\", query_type='DESCRIPTION', passages='Definition of chakra. : any of several points of physical or spiritual energy in the human body according to yoga philosophy.')\n",
      "Pandas(Index=48212, query_id=87129, question='when did sally ride first go to sp', answer=\"['June 18, 1983.']\", query_type='NUMERIC', passages=\"Sally Ride in space in 1984. Space Frontiers/Getty Images. Today would have been Sally Ride's 64th birthday. Ride, who became the first American woman in space on June 18, 1983, died of pancreatic cancer in 2012. But she remains an iconic figure in science — in part due to her milestone but also because of her influential work on behalf of science education for kids.\")\n",
      "Pandas(Index=18633, query_id=36123, question='central palm beach chamber of commerce', answer=\"['It is a regional chamber covering over 15 municipalities within Palm Beach County, including Wellington, Royal Palm Beach, West Palm Beach, Lake Worth, Greenacres, and many more.']\", query_type='DESCRIPTION', passages='Central Palm Beach County Chamber of Commerce. The Central Palm Beach County Chamber of Commerce is a regional chamber covering over 15 municipalities within Palm Beach County, including Wellington, Royal Palm Beach, West Palm Beach, Lake Worth, Greenacres, and many more!')\n"
     ]
    }
   ],
   "execution_count": 4
  },
  {
   "metadata": {
    "ExecuteTime": {
     "end_time": "2025-04-05T09:11:03.045721Z",
     "start_time": "2025-04-05T09:11:03.034652Z"
    }
   },
   "cell_type": "code",
   "source": "print(df.isnull().sum())",
   "id": "aaa314d3aaeeb442",
   "outputs": [
    {
     "name": "stdout",
     "output_type": "stream",
     "text": [
      "query_id      0\n",
      "question      0\n",
      "answer        0\n",
      "query_type    0\n",
      "passages      0\n",
      "dtype: int64\n"
     ]
    }
   ],
   "execution_count": 5
  },
  {
   "metadata": {
    "ExecuteTime": {
     "end_time": "2025-04-05T09:11:03.276865Z",
     "start_time": "2025-04-05T09:11:03.202533Z"
    }
   },
   "cell_type": "code",
   "source": [
    "for col in df.columns:\n",
    "    print(f\"{col}: {df[col].nunique()} unique values\")"
   ],
   "id": "5d1bf2b90e2029b",
   "outputs": [
    {
     "name": "stdout",
     "output_type": "stream",
     "text": [
      "query_id: 55578 unique values\n",
      "question: 55578 unique values\n",
      "answer: 53641 unique values\n",
      "query_type: 5 unique values\n",
      "passages: 55437 unique values\n"
     ]
    }
   ],
   "execution_count": 6
  },
  {
   "metadata": {
    "ExecuteTime": {
     "end_time": "2025-04-05T09:11:03.854805Z",
     "start_time": "2025-04-05T09:11:03.725090Z"
    }
   },
   "cell_type": "code",
   "source": [
    "#Length of Passages\n",
    "if 'passages' in df.columns:\n",
    "    df[\"passage_length\"] = df[\"passages\"].apply(lambda x: len(str(x).split()))\n",
    "    print(\"\\nPassage Length Stats:\")\n",
    "    print(df[\"passage_length\"].describe())\n"
   ],
   "id": "5e89ebf13d44cba3",
   "outputs": [
    {
     "name": "stdout",
     "output_type": "stream",
     "text": [
      "\n",
      "Passage Length Stats:\n",
      "count    55578.000000\n",
      "mean        58.144913\n",
      "std         27.074754\n",
      "min          7.000000\n",
      "25%         42.000000\n",
      "50%         51.000000\n",
      "75%         68.000000\n",
      "max        565.000000\n",
      "Name: passage_length, dtype: float64\n"
     ]
    }
   ],
   "execution_count": 7
  },
  {
   "metadata": {
    "ExecuteTime": {
     "end_time": "2025-04-05T09:11:04.433901Z",
     "start_time": "2025-04-05T09:11:04.420229Z"
    }
   },
   "cell_type": "code",
   "source": [
    "# Filter questions that start with \"Wh\" and end with \"?\"\n",
    "wh_questions = df[df[\"question\"].str.match(r\"^Wh.*\\?$\", na=False)]\n",
    "\n",
    "# Count the number of such questions\n",
    "num_wh_questions = len(wh_questions)\n",
    "\n",
    "print(f\"Number of 'Wh' ? questions: {num_wh_questions}\")"
   ],
   "id": "ec5fc26cc27b4887",
   "outputs": [
    {
     "name": "stdout",
     "output_type": "stream",
     "text": [
      "Number of 'Wh' ? questions: 2\n"
     ]
    }
   ],
   "execution_count": 8
  },
  {
   "metadata": {
    "ExecuteTime": {
     "end_time": "2025-04-05T09:11:05.096158Z",
     "start_time": "2025-04-05T09:11:05.082591Z"
    }
   },
   "cell_type": "code",
   "source": [
    "# Filter questions that start with \"Wh\" and end with \"?\"\n",
    "wh_questions = df[df[\"question\"].str.match(r\"^Wh.*\", na=False)]\n",
    "\n",
    "# Count the number of such questions\n",
    "num_wh_questions = len(wh_questions)\n",
    "\n",
    "print(f\"Number of 'Wh' questions: {num_wh_questions}\")"
   ],
   "id": "f86cdbaa695ead23",
   "outputs": [
    {
     "name": "stdout",
     "output_type": "stream",
     "text": [
      "Number of 'Wh' questions: 25\n"
     ]
    }
   ],
   "execution_count": 9
  },
  {
   "metadata": {
    "ExecuteTime": {
     "end_time": "2025-04-05T09:11:06.092324Z",
     "start_time": "2025-04-05T09:11:06.090215Z"
    }
   },
   "cell_type": "code",
   "source": "",
   "id": "5ce79bdc30f6bff4",
   "outputs": [],
   "execution_count": null
  },
  {
   "metadata": {},
   "cell_type": "code",
   "outputs": [],
   "execution_count": null,
   "source": "",
   "id": "39515b945d5c2985"
  }
 ],
 "metadata": {
  "kernelspec": {
   "display_name": "Python 3",
   "language": "python",
   "name": "python3"
  },
  "language_info": {
   "codemirror_mode": {
    "name": "ipython",
    "version": 2
   },
   "file_extension": ".py",
   "mimetype": "text/x-python",
   "name": "python",
   "nbconvert_exporter": "python",
   "pygments_lexer": "ipython2",
   "version": "2.7.6"
  }
 },
 "nbformat": 4,
 "nbformat_minor": 5
}
