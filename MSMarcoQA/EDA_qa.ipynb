{
 "cells": [
  {
   "metadata": {},
   "cell_type": "markdown",
   "source": "# EDA",
   "id": "57454edb0b81daf3"
  },
  {
   "metadata": {},
   "cell_type": "markdown",
   "source": [
    "This notebook explores `qa_train_data.csv`\n",
    "\n",
    "## 1. Data origin\n",
    "The data was taken from the **MSMarco QA dataset** (only from `dev_v2.1.json`).\n",
    "#### Related Links:\n",
    "- **Official Webpage**: [MSMarco QA Overview](https://microsoft.github.io/MSMARCO-Question-Answering/)\n",
    "- **Dataset Page** (Agree to terms of usage to access datasets): [MSMarco Datasets](https://microsoft.github.io/msmarco/#qna)\n",
    "\n",
    "#### Dataset Files:\n",
    "- **Training Data**: [train_v2.1.json.gz](https://msmarco.z22.web.core.windows.net/msmarco/train_v2.1.json.gz)\n",
    "- **Development Data**: [dev_v2.1.json.gz](https://msmarco.z22.web.core.windows.net/msmarco/dev_v2.1.json.gz)\n",
    "- **Evaluation Data**: [eval_v2.1_public.json.gz](https://msmarco.z22.web.core.windows.net/msmarco/eval_v2.1_public.json.gz)\n",
    "\n",
    "## 2. Data preparation\n",
    "We extracted the following fields using `make_data.py`:\n",
    "\n",
    "## Extracted Fields:\n",
    "- **`query_id`**: A unique identifier for each question.\n",
    "- **`question`**: The actual question being asked.\n",
    "- **`answer`**: The correct answer(s) provided by human annotators. Is a list:)\n",
    "- **`passages`**: Text passages that contain relevant information to answer the question.\n",
    "\n",
    "## Data Extraction Process:\n",
    "- The script `make_data.py` processes the dataset by:\n",
    "  - Filtering out questions without a valid answer (i.e., `\"No Answer Present.\"`).\n",
    "  - Matching questions with relevant passages that contain supporting information.\n",
    "  - Formatting the output as a structured dataset for training.\n",
    "\n",
    "## Example Entry:\n",
    "```json\n",
    "{\n",
    "    \"query_id\": \"0\",\n",
    "    \"question\": \"What is a corporation?\",\n",
    "    \"answer\": [\"A corporation is a company or group of people authorized to act as a single entity and recognized as such in law.\"],\n",
    "    \"passages\": \"McDonald's Corporation is one of the most recognizable corporations in the world. A corporation is a company or group of people authorized to act as a single entity (legally a person) and recognized as such in law. Early incorporated entities were established by charter...\"\n",
    "}"
   ],
   "id": "968d0c6f1eb890a5"
  },
  {
   "cell_type": "code",
   "id": "initial_id",
   "metadata": {
    "collapsed": true,
    "ExecuteTime": {
     "end_time": "2025-04-05T08:33:48.846390Z",
     "start_time": "2025-04-05T08:33:48.842059Z"
    }
   },
   "source": "import pandas as pd",
   "outputs": [],
   "execution_count": 16
  },
  {
   "metadata": {
    "ExecuteTime": {
     "end_time": "2025-04-05T08:33:49.177888Z",
     "start_time": "2025-04-05T08:33:49.174307Z"
    }
   },
   "cell_type": "code",
   "source": "data_split = 'dev'",
   "id": "ea336dd398be049f",
   "outputs": [],
   "execution_count": 17
  },
  {
   "metadata": {
    "ExecuteTime": {
     "end_time": "2025-04-05T08:39:22.448964Z",
     "start_time": "2025-04-05T08:39:22.210031Z"
    }
   },
   "cell_type": "code",
   "source": [
    "\n",
    "# Load your dataset\n",
    "df = pd.read_csv(f\"qa_data_55578.csv\")\n",
    "\n",
    "# Basic Overview\n",
    "print(\"Dataset Info:\")\n",
    "print(df.info())  # Column types, missing values"
   ],
   "id": "8dcf3231f282eff8",
   "outputs": [
    {
     "name": "stdout",
     "output_type": "stream",
     "text": [
      "Dataset Info:\n",
      "<class 'pandas.core.frame.DataFrame'>\n",
      "RangeIndex: 55578 entries, 0 to 55577\n",
      "Data columns (total 5 columns):\n",
      " #   Column      Non-Null Count  Dtype \n",
      "---  ------      --------------  ----- \n",
      " 0   query_id    55578 non-null  int64 \n",
      " 1   question    55578 non-null  object\n",
      " 2   answer      55578 non-null  object\n",
      " 3   query_type  55578 non-null  object\n",
      " 4   passages    55578 non-null  object\n",
      "dtypes: int64(1), object(4)\n",
      "memory usage: 2.1+ MB\n",
      "None\n"
     ]
    }
   ],
   "execution_count": 21
  },
  {
   "metadata": {
    "ExecuteTime": {
     "end_time": "2025-04-05T08:39:23.534336Z",
     "start_time": "2025-04-05T08:39:23.525911Z"
    }
   },
   "cell_type": "code",
   "source": "df.head()",
   "id": "6ca243c98c379459",
   "outputs": [
    {
     "data": {
      "text/plain": [
       "   query_id                                           question  \\\n",
       "0         0                           . what is a corporation?   \n",
       "1         1  why did rachel carson write an obligation to e...   \n",
       "2     10000                          symptoms of a dying mouse   \n",
       "3    100000        average number of lightning strikes per day   \n",
       "4    100001             can you burn your lawn with fertilizer   \n",
       "\n",
       "                                              answer   query_type  \\\n",
       "0  ['A corporation is a company or group of peopl...  DESCRIPTION   \n",
       "1  ['Rachel Carson writes The Obligation to Endur...  DESCRIPTION   \n",
       "2  ['The symptoms of a dying mouse are runny eyes...       ENTITY   \n",
       "3  ['Globally 8,640,000 lightning strikes per day.']      NUMERIC   \n",
       "4           ['Yes, over fertilizing can burn lawn.']  DESCRIPTION   \n",
       "\n",
       "                                            passages  \n",
       "0  McDonald's Corporation is one of the most reco...  \n",
       "1  The Obligation to Endure by Rachel Carson Rach...  \n",
       "2  The symptoms are similar but the mouse will be...  \n",
       "3  Although many lightning flashes are simply clo...  \n",
       "4  Fertilizer burn is the result of over fertiliz...  "
      ],
      "text/html": [
       "<div>\n",
       "<style scoped>\n",
       "    .dataframe tbody tr th:only-of-type {\n",
       "        vertical-align: middle;\n",
       "    }\n",
       "\n",
       "    .dataframe tbody tr th {\n",
       "        vertical-align: top;\n",
       "    }\n",
       "\n",
       "    .dataframe thead th {\n",
       "        text-align: right;\n",
       "    }\n",
       "</style>\n",
       "<table border=\"1\" class=\"dataframe\">\n",
       "  <thead>\n",
       "    <tr style=\"text-align: right;\">\n",
       "      <th></th>\n",
       "      <th>query_id</th>\n",
       "      <th>question</th>\n",
       "      <th>answer</th>\n",
       "      <th>query_type</th>\n",
       "      <th>passages</th>\n",
       "    </tr>\n",
       "  </thead>\n",
       "  <tbody>\n",
       "    <tr>\n",
       "      <th>0</th>\n",
       "      <td>0</td>\n",
       "      <td>. what is a corporation?</td>\n",
       "      <td>['A corporation is a company or group of peopl...</td>\n",
       "      <td>DESCRIPTION</td>\n",
       "      <td>McDonald's Corporation is one of the most reco...</td>\n",
       "    </tr>\n",
       "    <tr>\n",
       "      <th>1</th>\n",
       "      <td>1</td>\n",
       "      <td>why did rachel carson write an obligation to e...</td>\n",
       "      <td>['Rachel Carson writes The Obligation to Endur...</td>\n",
       "      <td>DESCRIPTION</td>\n",
       "      <td>The Obligation to Endure by Rachel Carson Rach...</td>\n",
       "    </tr>\n",
       "    <tr>\n",
       "      <th>2</th>\n",
       "      <td>10000</td>\n",
       "      <td>symptoms of a dying mouse</td>\n",
       "      <td>['The symptoms of a dying mouse are runny eyes...</td>\n",
       "      <td>ENTITY</td>\n",
       "      <td>The symptoms are similar but the mouse will be...</td>\n",
       "    </tr>\n",
       "    <tr>\n",
       "      <th>3</th>\n",
       "      <td>100000</td>\n",
       "      <td>average number of lightning strikes per day</td>\n",
       "      <td>['Globally 8,640,000 lightning strikes per day.']</td>\n",
       "      <td>NUMERIC</td>\n",
       "      <td>Although many lightning flashes are simply clo...</td>\n",
       "    </tr>\n",
       "    <tr>\n",
       "      <th>4</th>\n",
       "      <td>100001</td>\n",
       "      <td>can you burn your lawn with fertilizer</td>\n",
       "      <td>['Yes, over fertilizing can burn lawn.']</td>\n",
       "      <td>DESCRIPTION</td>\n",
       "      <td>Fertilizer burn is the result of over fertiliz...</td>\n",
       "    </tr>\n",
       "  </tbody>\n",
       "</table>\n",
       "</div>"
      ]
     },
     "execution_count": 22,
     "metadata": {},
     "output_type": "execute_result"
    }
   ],
   "execution_count": 22
  },
  {
   "metadata": {
    "ExecuteTime": {
     "end_time": "2025-04-05T08:40:14.576133Z",
     "start_time": "2025-04-05T08:40:14.569560Z"
    }
   },
   "cell_type": "code",
   "source": [
    "for row in df.sample(10).itertuples():\n",
    "    print(row)"
   ],
   "id": "60037a98b688aa5e",
   "outputs": [
    {
     "name": "stdout",
     "output_type": "stream",
     "text": [
      "Pandas(Index=2519, query_id=12744, question='what are the penalties of closing my hsa', answer=\"['There are no tax penalties of closing Health Savings Accounts.']\", query_type='DESCRIPTION', passages=\"You will have to pay taxes plus a 10% 20% (I'm pretty sure that's right) fee for withdrawing the money from your HSA. There are no tax penalties only if you pay for medical expenses FROM the account, which is no longer possible since it is closed.. Health Savings Accounts (HSAs) A Health Savings Account (HSA) is a tax-exempt trust or custodial account you set up with a qualified HSA trustee to pay or reimburse certain medical expenses you incur. You must be an eligible individual to qualify for an HSA. No permission or authorization from the IRS is necessary to establish an HSA.\", passage_length=104)\n",
      "Pandas(Index=10249, query_id=23050, question='what is weather in invergordon scotland in july', answer=\"['The average maximum daytime temperature in Invergordon in February is a cold 5°C (41°F), while the average minimum night-time temperature is a very cold -1°C (30°F). You can expect on average 3 hours of sunshine a day in Invergordon during February.']\", query_type='DESCRIPTION', passages='Invergordon weather in February. The average maximum daytime temperature in Invergordon in February is a cold 5°C (41°F), while the average minimum night-time temperature is a very cold -1°C (30°F). You can expect on average 3 hours of sunshine a day in Invergordon during February.', passage_length=45)\n",
      "Pandas(Index=18710, query_id=36287, question='define softening water', answer=\"['Water softening is a process through which calcium, magnesium and certain other metal cations in hard water are removed.']\", query_type='DESCRIPTION', passages='Water softening is a process through which calcium, magnesium and certain other metal cations in hard water are removed. Water softening is an important process, because it can extend the lifespan of household appliances and pipelines, as well as improve function and lifespan of solar heating systems, air conditioning units and many other water-based applications.', passage_length=55)\n",
      "Pandas(Index=41884, query_id=76443, question='when did old yeller come out', answer=\"['1957']\", query_type='NUMERIC', passages='33,306 pages on this wiki. Old Yeller is a 1957 Walt Disney Productions film starring Tommy Kirk, Dorothy McGuire, and Beverly Washburn, and directed by Robert Stevenson. It is about a boy and a stray dog in post-Civil War Texas. It is based upon the 1956 Newbery Honor-winning book of the same name by Fred Gipson.', passage_length=56)\n",
      "Pandas(Index=23089, query_id=44252, question='how to test keystrokes per hour', answer=\"['1 You can calculate the number of keystrokes per hour you type if you know your word-per-minute typing speed. 2 Take an online typing test (see Resources). 3 Repeat the test at a different typing test site. Average your WPM results by adding them together and then dividing by the number of tests you took.']\", query_type='DESCRIPTION', passages='March 31, 2015. 1  You can calculate the number of keystrokes per hour you type if you know your word-per-minute typing speed. 2  Take an online typing test (see Resources). 3  Repeat the test at a different typing test site.  Average your WPM results by adding them together and then dividing by the number of tests you took.', passage_length=58)\n",
      "Pandas(Index=38187, query_id=7023, question='is social security paid in on employee deductible', answer=\"['No, employees may not deduct any payroll tax withheld from your income.']\", query_type='DESCRIPTION', passages='The IRS collects the Social Security payroll tax on behalf of the Social Security Administration. IRS rules do not allow the employer or the employee to waive the tax or change its rate, which as of 2012 was 4.2 percent for employees and 6.2 percent for employers. You may not deduct any payroll tax withheld from your income. Your eligibility for Social Security benefits depends on a system of work credits, which are earned by drawing income and paying in to the Social Security system.', passage_length=85)\n",
      "Pandas(Index=49864, query_id=89879, question='why did the gestapo go after the communists', answer=\"['The Gestapo’s main purpose was to hunt out those considered a threat to Nazi Germany. By the time World War Two started these included Jews, Communists, Jehovah Witnesses, homosexuals – basically anyone who was thought to challenge the hegemony of the Nazi Party within Germany.']\", query_type='DESCRIPTION', passages='The Gestapo’s main purpose was to hunt out those considered a threat to Nazi Germany. By the time World War Two started these included Jews, Communists, Jehovah Witnesses, homosexuals – basically anyone who was thought to challenge the hegemony of the Nazi Party within Germany.After the outbreak of World War Two, the work of the Gestapo covered Occupied Europe where it had two main tasks.oering wanted to have control over a unified police force of Germany. Himmler had an identical aspiration. Goering set up the Central Security Office of the Third Reich in buildings on Prinz Albrechtstrasse in Berlin. He made one of his proteges, Protégés Rudolf, diels head of the secret. police', passage_length=113)\n",
      "Pandas(Index=3481, query_id=14005, question='what county is the city of oneida ny in', answer=\"['Oneida is a city in Madison County located east of Canastota, New York, United States.']\", query_type='LOCATION', passages='Oneida is a city in Madison County located east of Canastota, New York, United States. The population was 10,987 at the 2000 census. The city, like both the adjacent county and the nearby silver and china maker, takes its name from the Oneida tribe. Some members of the tribe are still concentrated in the municipal vicinity. Oneida is located at 43°5′6″N 75°39′12″W / 43.085°N 75.65333°W / 43.085; -75.65333 (43.084961, -75.653375).', passage_length=70)\n",
      "Pandas(Index=18251, query_id=35367, question='does water release energy as it turns to ice', answer=\"['Yes, water release energy as it turns to ice.']\", query_type='DESCRIPTION', passages='So, to convert water into ice, you have to remove energy, and you do this by removing the energy from the water in the form of heat. Your freezer is a lot colder than the water, so the water gives up its heat energy to the air in your freezer by warming up that air. Then the freezer tries to maintain its cold temperature by pumping the heat into your kitchen.', passage_length=71)\n",
      "Pandas(Index=39761, query_id=72813, question='what show stars corey matthews', answer=\"['A fictional character in the US television series Boy Meets World (1993–2000) and its sequel Girl Meets World (2014–present).']\", query_type='ENTITY', passages='Cornelius A. Cory Matthews is a fictional character in the US television series Boy Meets World (1993–2000) and its sequel Girl Meets World (2014–present), portrayed by Ben Savage.', passage_length=28)\n"
     ]
    }
   ],
   "execution_count": 29
  },
  {
   "metadata": {
    "ExecuteTime": {
     "end_time": "2025-04-05T08:39:25.010763Z",
     "start_time": "2025-04-05T08:39:24.998236Z"
    }
   },
   "cell_type": "code",
   "source": "print(df.isnull().sum())",
   "id": "aaa314d3aaeeb442",
   "outputs": [
    {
     "name": "stdout",
     "output_type": "stream",
     "text": [
      "query_id      0\n",
      "question      0\n",
      "answer        0\n",
      "query_type    0\n",
      "passages      0\n",
      "dtype: int64\n"
     ]
    }
   ],
   "execution_count": 24
  },
  {
   "metadata": {
    "ExecuteTime": {
     "end_time": "2025-04-05T08:39:25.792811Z",
     "start_time": "2025-04-05T08:39:25.713616Z"
    }
   },
   "cell_type": "code",
   "source": [
    "for col in df.columns:\n",
    "    print(f\"{col}: {df[col].nunique()} unique values\")"
   ],
   "id": "5d1bf2b90e2029b",
   "outputs": [
    {
     "name": "stdout",
     "output_type": "stream",
     "text": [
      "query_id: 55578 unique values\n",
      "question: 55578 unique values\n",
      "answer: 53641 unique values\n",
      "query_type: 5 unique values\n",
      "passages: 55437 unique values\n"
     ]
    }
   ],
   "execution_count": 25
  },
  {
   "metadata": {
    "ExecuteTime": {
     "end_time": "2025-04-05T08:39:26.417377Z",
     "start_time": "2025-04-05T08:39:26.286769Z"
    }
   },
   "cell_type": "code",
   "source": [
    "#Length of Passages\n",
    "if 'passages' in df.columns:\n",
    "    df[\"passage_length\"] = df[\"passages\"].apply(lambda x: len(str(x).split()))\n",
    "    print(\"\\nPassage Length Stats:\")\n",
    "    print(df[\"passage_length\"].describe())\n"
   ],
   "id": "5e89ebf13d44cba3",
   "outputs": [
    {
     "name": "stdout",
     "output_type": "stream",
     "text": [
      "\n",
      "Passage Length Stats:\n",
      "count    55578.000000\n",
      "mean        58.144913\n",
      "std         27.074754\n",
      "min          7.000000\n",
      "25%         42.000000\n",
      "50%         51.000000\n",
      "75%         68.000000\n",
      "max        565.000000\n",
      "Name: passage_length, dtype: float64\n"
     ]
    }
   ],
   "execution_count": 26
  },
  {
   "metadata": {
    "ExecuteTime": {
     "end_time": "2025-04-05T08:39:26.791194Z",
     "start_time": "2025-04-05T08:39:26.776178Z"
    }
   },
   "cell_type": "code",
   "source": [
    "# Filter questions that start with \"Wh\" and end with \"?\"\n",
    "wh_questions = df[df[\"question\"].str.match(r\"^Wh.*\\?$\", na=False)]\n",
    "\n",
    "# Count the number of such questions\n",
    "num_wh_questions = len(wh_questions)\n",
    "\n",
    "print(f\"Number of 'Wh' ? questions: {num_wh_questions}\")"
   ],
   "id": "ec5fc26cc27b4887",
   "outputs": [
    {
     "name": "stdout",
     "output_type": "stream",
     "text": [
      "Number of 'Wh' ? questions: 2\n"
     ]
    }
   ],
   "execution_count": 27
  },
  {
   "metadata": {
    "ExecuteTime": {
     "end_time": "2025-04-05T08:39:27.309464Z",
     "start_time": "2025-04-05T08:39:27.298118Z"
    }
   },
   "cell_type": "code",
   "source": [
    "# Filter questions that start with \"Wh\" and end with \"?\"\n",
    "wh_questions = df[df[\"question\"].str.match(r\"^Wh.*\", na=False)]\n",
    "\n",
    "# Count the number of such questions\n",
    "num_wh_questions = len(wh_questions)\n",
    "\n",
    "print(f\"Number of 'Wh' questions: {num_wh_questions}\")"
   ],
   "id": "f86cdbaa695ead23",
   "outputs": [
    {
     "name": "stdout",
     "output_type": "stream",
     "text": [
      "Number of 'Wh' questions: 25\n"
     ]
    }
   ],
   "execution_count": 28
  },
  {
   "metadata": {
    "ExecuteTime": {
     "end_time": "2025-03-28T08:37:48.072008Z",
     "start_time": "2025-03-28T08:37:48.066778Z"
    }
   },
   "cell_type": "code",
   "source": "",
   "id": "5ce79bdc30f6bff4",
   "outputs": [],
   "execution_count": null
  }
 ],
 "metadata": {
  "kernelspec": {
   "display_name": "Python 3",
   "language": "python",
   "name": "python3"
  },
  "language_info": {
   "codemirror_mode": {
    "name": "ipython",
    "version": 2
   },
   "file_extension": ".py",
   "mimetype": "text/x-python",
   "name": "python",
   "nbconvert_exporter": "python",
   "pygments_lexer": "ipython2",
   "version": "2.7.6"
  }
 },
 "nbformat": 4,
 "nbformat_minor": 5
}
